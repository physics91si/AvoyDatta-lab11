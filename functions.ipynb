{
 "cells": [
  {
   "cell_type": "code",
   "execution_count": 1,
   "metadata": {
    "collapsed": false
   },
   "outputs": [
    {
     "name": "stdout",
     "output_type": "stream",
     "text": [
      "[1, 4, 9, 16, 25, 36, 49, 64, 81, 100]\n",
      "120\n",
      "['test1', 'test2', 'test3', 'test4']\n"
     ]
    }
   ],
   "source": [
    "import numpy\n",
    "from functools import reduce\n",
    "\n",
    "\n",
    "def main():\n",
    "    print(Squares(10))\n",
    "    print (Products(1 , 5))\n",
    "    print (Filenames(\"test1.py test2.py test3.py test4.py test.dochdhehyd\"))\n",
    "    \n",
    "    \n",
    "def Squares(n):\n",
    "    square = lambda x: x**2\n",
    "    return list(map(square, range(1, n + 1)))\n",
    "\n",
    "def Products(n1, n2):\n",
    "    #reduce() doesnt work for non-binary functions\n",
    "    mult = lambda x,y : x * y\n",
    "    return reduce(mult, range(n1, n2 + 1))\n",
    "\n",
    "def Filenames(string):\n",
    "    nameList = string.split(\" \")\n",
    "    return [name[:-3] for name in nameList if name[-3:] == '.py']     \n",
    "\n",
    "main()"
   ]
  },
  {
   "cell_type": "code",
   "execution_count": null,
   "metadata": {
    "collapsed": true
   },
   "outputs": [],
   "source": []
  }
 ],
 "metadata": {
  "kernelspec": {
   "display_name": "Python 3",
   "language": "python",
   "name": "python3"
  },
  "language_info": {
   "codemirror_mode": {
    "name": "ipython",
    "version": 3
   },
   "file_extension": ".py",
   "mimetype": "text/x-python",
   "name": "python",
   "nbconvert_exporter": "python",
   "pygments_lexer": "ipython3",
   "version": "3.5.1"
  }
 },
 "nbformat": 4,
 "nbformat_minor": 2
}
